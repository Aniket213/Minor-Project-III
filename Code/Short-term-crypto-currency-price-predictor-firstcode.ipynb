{
 "cells": [
  {
   "cell_type": "code",
   "execution_count": 1,
   "metadata": {},
   "outputs": [],
   "source": [
    "# pip install numpy\n",
    "# pip install pandas\n",
    "# pip install matplotlib\n",
    "# pip install pandas-datareader\n",
    "# pip install tensorflow\n",
    "# pip install sklearn\n",
    "# pip install scikit-learn"
   ]
  },
  {
   "cell_type": "code",
   "execution_count": 1,
   "metadata": {},
   "outputs": [
    {
     "name": "stderr",
     "output_type": "stream",
     "text": [
      "C:\\Users\\DELL\\anaconda3\\lib\\site-packages\\pandas\\core\\computation\\expressions.py:20: UserWarning: Pandas requires version '2.7.3' or newer of 'numexpr' (version '2.7.1' currently installed).\n",
      "  from pandas.core.computation.check import NUMEXPR_INSTALLED\n"
     ]
    }
   ],
   "source": [
    "import numpy as np\n",
    "import matplotlib.pyplot as plt\n",
    "import pandas as pd\n",
    "import pandas_datareader as web\n",
    "import datetime as dt\n",
    "\n",
    "from sklearn.preprocessing import MinMaxScaler\n",
    "from tensorflow.keras.layers import Dense, Dropout, LSTM\n",
    "from tensorflow.keras.models import Sequential\n",
    "import warnings\n",
    "warnings.filterwarnings('ignore')"
   ]
  },
  {
   "cell_type": "code",
   "execution_count": 9,
   "metadata": {},
   "outputs": [
    {
     "name": "stdout",
     "output_type": "stream",
     "text": [
      "[*********************100%***********************]  1 of 1 completed\n"
     ]
    },
    {
     "data": {
      "text/html": [
       "<div>\n",
       "<style scoped>\n",
       "    .dataframe tbody tr th:only-of-type {\n",
       "        vertical-align: middle;\n",
       "    }\n",
       "\n",
       "    .dataframe tbody tr th {\n",
       "        vertical-align: top;\n",
       "    }\n",
       "\n",
       "    .dataframe thead th {\n",
       "        text-align: right;\n",
       "    }\n",
       "</style>\n",
       "<table border=\"1\" class=\"dataframe\">\n",
       "  <thead>\n",
       "    <tr style=\"text-align: right;\">\n",
       "      <th></th>\n",
       "      <th>Open</th>\n",
       "      <th>High</th>\n",
       "      <th>Low</th>\n",
       "      <th>Close</th>\n",
       "      <th>Adj Close</th>\n",
       "      <th>Volume</th>\n",
       "    </tr>\n",
       "    <tr>\n",
       "      <th>Date</th>\n",
       "      <th></th>\n",
       "      <th></th>\n",
       "      <th></th>\n",
       "      <th></th>\n",
       "      <th></th>\n",
       "      <th></th>\n",
       "    </tr>\n",
       "  </thead>\n",
       "  <tbody>\n",
       "    <tr>\n",
       "      <th>2016-04-23</th>\n",
       "      <td>445.860992</td>\n",
       "      <td>450.282013</td>\n",
       "      <td>444.330994</td>\n",
       "      <td>450.282013</td>\n",
       "      <td>450.282013</td>\n",
       "      <td>50485400</td>\n",
       "    </tr>\n",
       "    <tr>\n",
       "      <th>2016-04-24</th>\n",
       "      <td>450.559998</td>\n",
       "      <td>460.145996</td>\n",
       "      <td>448.928009</td>\n",
       "      <td>458.554993</td>\n",
       "      <td>458.554993</td>\n",
       "      <td>68198400</td>\n",
       "    </tr>\n",
       "    <tr>\n",
       "      <th>2016-04-25</th>\n",
       "      <td>459.121002</td>\n",
       "      <td>466.619995</td>\n",
       "      <td>453.592010</td>\n",
       "      <td>461.425995</td>\n",
       "      <td>461.425995</td>\n",
       "      <td>87091800</td>\n",
       "    </tr>\n",
       "    <tr>\n",
       "      <th>2016-04-26</th>\n",
       "      <td>461.648010</td>\n",
       "      <td>467.964996</td>\n",
       "      <td>461.621002</td>\n",
       "      <td>466.088989</td>\n",
       "      <td>466.088989</td>\n",
       "      <td>78971904</td>\n",
       "    </tr>\n",
       "    <tr>\n",
       "      <th>2016-04-27</th>\n",
       "      <td>466.261993</td>\n",
       "      <td>467.079010</td>\n",
       "      <td>444.134003</td>\n",
       "      <td>444.687012</td>\n",
       "      <td>444.687012</td>\n",
       "      <td>93564896</td>\n",
       "    </tr>\n",
       "    <tr>\n",
       "      <th>...</th>\n",
       "      <td>...</td>\n",
       "      <td>...</td>\n",
       "      <td>...</td>\n",
       "      <td>...</td>\n",
       "      <td>...</td>\n",
       "      <td>...</td>\n",
       "    </tr>\n",
       "    <tr>\n",
       "      <th>2023-04-19</th>\n",
       "      <td>30394.187500</td>\n",
       "      <td>30411.054688</td>\n",
       "      <td>28669.898438</td>\n",
       "      <td>28822.679688</td>\n",
       "      <td>28822.679688</td>\n",
       "      <td>24571565421</td>\n",
       "    </tr>\n",
       "    <tr>\n",
       "      <th>2023-04-20</th>\n",
       "      <td>28823.683594</td>\n",
       "      <td>29076.400391</td>\n",
       "      <td>28037.257812</td>\n",
       "      <td>28245.988281</td>\n",
       "      <td>28245.988281</td>\n",
       "      <td>21340360360</td>\n",
       "    </tr>\n",
       "    <tr>\n",
       "      <th>2023-04-21</th>\n",
       "      <td>28249.230469</td>\n",
       "      <td>28349.968750</td>\n",
       "      <td>27177.365234</td>\n",
       "      <td>27276.910156</td>\n",
       "      <td>27276.910156</td>\n",
       "      <td>20759504330</td>\n",
       "    </tr>\n",
       "    <tr>\n",
       "      <th>2023-04-22</th>\n",
       "      <td>27265.894531</td>\n",
       "      <td>27872.142578</td>\n",
       "      <td>27169.570312</td>\n",
       "      <td>27817.500000</td>\n",
       "      <td>27817.500000</td>\n",
       "      <td>13125734602</td>\n",
       "    </tr>\n",
       "    <tr>\n",
       "      <th>2023-04-23</th>\n",
       "      <td>27804.269531</td>\n",
       "      <td>27804.269531</td>\n",
       "      <td>27508.791016</td>\n",
       "      <td>27657.765625</td>\n",
       "      <td>27657.765625</td>\n",
       "      <td>13500234752</td>\n",
       "    </tr>\n",
       "  </tbody>\n",
       "</table>\n",
       "<p>2557 rows × 6 columns</p>\n",
       "</div>"
      ],
      "text/plain": [
       "                    Open          High           Low         Close   \n",
       "Date                                                                 \n",
       "2016-04-23    445.860992    450.282013    444.330994    450.282013  \\\n",
       "2016-04-24    450.559998    460.145996    448.928009    458.554993   \n",
       "2016-04-25    459.121002    466.619995    453.592010    461.425995   \n",
       "2016-04-26    461.648010    467.964996    461.621002    466.088989   \n",
       "2016-04-27    466.261993    467.079010    444.134003    444.687012   \n",
       "...                  ...           ...           ...           ...   \n",
       "2023-04-19  30394.187500  30411.054688  28669.898438  28822.679688   \n",
       "2023-04-20  28823.683594  29076.400391  28037.257812  28245.988281   \n",
       "2023-04-21  28249.230469  28349.968750  27177.365234  27276.910156   \n",
       "2023-04-22  27265.894531  27872.142578  27169.570312  27817.500000   \n",
       "2023-04-23  27804.269531  27804.269531  27508.791016  27657.765625   \n",
       "\n",
       "               Adj Close       Volume  \n",
       "Date                                   \n",
       "2016-04-23    450.282013     50485400  \n",
       "2016-04-24    458.554993     68198400  \n",
       "2016-04-25    461.425995     87091800  \n",
       "2016-04-26    466.088989     78971904  \n",
       "2016-04-27    444.687012     93564896  \n",
       "...                  ...          ...  \n",
       "2023-04-19  28822.679688  24571565421  \n",
       "2023-04-20  28245.988281  21340360360  \n",
       "2023-04-21  27276.910156  20759504330  \n",
       "2023-04-22  27817.500000  13125734602  \n",
       "2023-04-23  27657.765625  13500234752  \n",
       "\n",
       "[2557 rows x 6 columns]"
      ]
     },
     "execution_count": 9,
     "metadata": {},
     "output_type": "execute_result"
    }
   ],
   "source": [
    "# from pandas_datareader import data as pdr\n",
    "# import pandas_datareader\n",
    "import yfinance as yf\n",
    "# yf.pdr_override()\n",
    "\n",
    "crypto_currency = 'BTC'\n",
    "# against_currency = 'USD'\n",
    "\n",
    "# start = dt.datetime(2016, 1, 1)\n",
    "# end = dt.datetime.now()\n",
    "\n",
    "# data = pdr.DataReader(f'{crypto_currency}-{against_currency}', start, end)  # i got error here # do not use 'yahoo' in this statement # now i dont know why this line is giving error as previously it was working fine\n",
    "data = yf.download(tickers='BTC-USD', period='7y', interval='1d')\n",
    "data"
   ]
  },
  {
   "cell_type": "markdown",
   "metadata": {},
   "source": [
    "# Prepare Data"
   ]
  },
  {
   "cell_type": "code",
   "execution_count": 4,
   "metadata": {},
   "outputs": [],
   "source": [
    "scaler = MinMaxScaler(feature_range=(0, 1))\n",
    "scaled_data = scaler.fit_transform(data['Close'].values.reshape(-1, 1))\n",
    "\n",
    "prediction_days = 60\n",
    "\n",
    "x_train, y_train = [], []\n",
    "\n",
    "for x in range(prediction_days, len(scaled_data)):\n",
    "    x_train.append(scaled_data[x-prediction_days:x, 0])\n",
    "    y_train.append(scaled_data[x, 0])\n",
    "\n",
    "x_train, y_train = np.array(x_train), np.array(y_train)\n",
    "x_train = np.reshape(x_train, (x_train.shape[0], x_train.shape[1], 1))\n"
   ]
  },
  {
   "cell_type": "markdown",
   "metadata": {},
   "source": [
    "# Create Neural Network"
   ]
  },
  {
   "cell_type": "code",
   "execution_count": 5,
   "metadata": {},
   "outputs": [
    {
     "name": "stdout",
     "output_type": "stream",
     "text": [
      "Epoch 1/25\n",
      "79/79 [==============================] - 11s 49ms/step - loss: 0.0092\n",
      "Epoch 2/25\n",
      "79/79 [==============================] - 4s 46ms/step - loss: 0.0035\n",
      "Epoch 3/25\n",
      "79/79 [==============================] - 3s 42ms/step - loss: 0.0026\n",
      "Epoch 4/25\n",
      "79/79 [==============================] - 4s 46ms/step - loss: 0.0024\n",
      "Epoch 5/25\n",
      "79/79 [==============================] - 4s 46ms/step - loss: 0.0020\n",
      "Epoch 6/25\n",
      "79/79 [==============================] - 4s 46ms/step - loss: 0.0021\n",
      "Epoch 7/25\n",
      "79/79 [==============================] - 3s 43ms/step - loss: 0.0020\n",
      "Epoch 8/25\n",
      "79/79 [==============================] - 3s 42ms/step - loss: 0.0021\n",
      "Epoch 9/25\n",
      "79/79 [==============================] - 3s 42ms/step - loss: 0.0017\n",
      "Epoch 10/25\n",
      "79/79 [==============================] - 3s 42ms/step - loss: 0.0017\n",
      "Epoch 11/25\n",
      "79/79 [==============================] - 3s 42ms/step - loss: 0.0015\n",
      "Epoch 12/25\n",
      "79/79 [==============================] - 3s 42ms/step - loss: 0.0021\n",
      "Epoch 13/25\n",
      "79/79 [==============================] - 3s 42ms/step - loss: 0.0015\n",
      "Epoch 14/25\n",
      "79/79 [==============================] - 3s 42ms/step - loss: 0.0024\n",
      "Epoch 15/25\n",
      "79/79 [==============================] - 3s 42ms/step - loss: 0.0014\n",
      "Epoch 16/25\n",
      "79/79 [==============================] - 3s 42ms/step - loss: 0.0014\n",
      "Epoch 17/25\n",
      "79/79 [==============================] - 3s 42ms/step - loss: 0.0014\n",
      "Epoch 18/25\n",
      "79/79 [==============================] - 3s 42ms/step - loss: 0.0013\n",
      "Epoch 19/25\n",
      "79/79 [==============================] - 3s 42ms/step - loss: 0.0011\n",
      "Epoch 20/25\n",
      "79/79 [==============================] - 3s 42ms/step - loss: 0.0013\n",
      "Epoch 21/25\n",
      "79/79 [==============================] - 3s 42ms/step - loss: 0.0013\n",
      "Epoch 22/25\n",
      "79/79 [==============================] - 3s 42ms/step - loss: 0.0012\n",
      "Epoch 23/25\n",
      "79/79 [==============================] - 3s 42ms/step - loss: 0.0012\n",
      "Epoch 24/25\n",
      "79/79 [==============================] - 3s 43ms/step - loss: 0.0013\n",
      "Epoch 25/25\n",
      "79/79 [==============================] - 3s 42ms/step - loss: 0.0012\n"
     ]
    },
    {
     "data": {
      "text/plain": [
       "<keras.callbacks.History at 0x26417ff8700>"
      ]
     },
     "execution_count": 5,
     "metadata": {},
     "output_type": "execute_result"
    }
   ],
   "source": [
    "model = Sequential()\n",
    "\n",
    "model.add(LSTM(units=50, return_sequences=True, input_shape=(x_train.shape[1], 1)))\n",
    "model.add(Dropout(0.2))\n",
    "model.add(LSTM(units=50, return_sequences=True))\n",
    "model.add(Dropout(0.2))\n",
    "model.add(LSTM(units=50))\n",
    "model.add(Dropout(0.2))        # i got error here # do not use model.dense(units=1)\n",
    "model.add(Dense(units=1))\n",
    "\n",
    "model.compile(optimizer='adam', loss='mean_squared_error')\n",
    "model.fit(x_train, y_train, epochs=25, batch_size=32)"
   ]
  },
  {
   "cell_type": "markdown",
   "metadata": {},
   "source": [
    "# Testing the Model"
   ]
  },
  {
   "cell_type": "code",
   "execution_count": 6,
   "metadata": {},
   "outputs": [
    {
     "name": "stdout",
     "output_type": "stream",
     "text": [
      "[*********************100%***********************]  1 of 1 completed\n",
      "35/35 [==============================] - 2s 15ms/step\n"
     ]
    }
   ],
   "source": [
    "# test_start = dt.datetime(2020, 1, 1)\n",
    "# test_end = dt.datetime(2023, 1, 1)\n",
    "\n",
    "# test_data = pdr.DataReader(f'{crypto_currency}-{against_currency}', test_start, test_end)\n",
    "test_data = yf.download(tickers='BTC-USD', period='3y', interval='1d')\n",
    "\n",
    "\n",
    "actual_prices = test_data['Close'].values\n",
    "\n",
    "total_dataset = pd.concat((data['Close'], test_data['Close']), axis=0)\n",
    "\n",
    "model_inputs = total_dataset[len(total_dataset) - len(test_data) - prediction_days:].values\n",
    "model_inputs = model_inputs.reshape(-1, 1)\n",
    "model_inputs = scaler.fit_transform(model_inputs)\n",
    "\n",
    "x_test = []\n",
    "\n",
    "for x in range(prediction_days, len(model_inputs)):\n",
    "    x_test.append(model_inputs[x-prediction_days:x, 0])\n",
    "    \n",
    "x_test = np.array(x_test)\n",
    "x_test = np.reshape(x_test, (x_test.shape[0], x_test.shape[1], 1))\n",
    "\n",
    "prediction_prices = model.predict(x_test)\n",
    "prediction_prices = scaler.inverse_transform(prediction_prices)\n",
    "\n"
   ]
  },
  {
   "cell_type": "code",
   "execution_count": 10,
   "metadata": {},
   "outputs": [
    {
     "data": {
      "image/png": "[encoded data removed]",
      "text/plain": [
       "<Figure size 432x288 with 1 Axes>"
      ]
     },
     "metadata": {
      "needs_background": "light"
     },
     "output_type": "display_data"
    }
   ],
   "source": [
    "plt.plot(actual_prices, color='black', label='Actual Prices')\n",
    "plt.plot(prediction_prices, color='green', label='Predicted Prices')\n",
    "plt.title(f'{crypto_currency} price prediction')\n",
    "plt.xlabel('Time')\n",
    "plt.ylabel('Price')\n",
    "plt.legend(loc='upper left')\n",
    "plt.show()"
   ]
  },
  {
   "cell_type": "markdown",
   "metadata": {},
   "source": [
    "# Predict next day"
   ]
  },
  {
   "cell_type": "code",
   "execution_count": 11,
   "metadata": {},
   "outputs": [
    {
     "name": "stdout",
     "output_type": "stream",
     "text": [
      "1/1 [==============================] - 1s 1s/step\n",
      "[[28270.16]]\n"
     ]
    }
   ],
   "source": [
    "real_data = [model_inputs[len(model_inputs) + 1 - prediction_days:len(model_inputs) + 1, 0]]\n",
    "real_data = np.array(real_data)\n",
    "real_data = np.reshape(real_data, (real_data.shape[0], real_data.shape[1], 1))\n",
    "\n",
    "prediction = model.predict(real_data)\n",
    "prediction = scaler.inverse_transform(prediction)\n",
    "print(prediction)"
   ]
  },
  {
   "cell_type": "code",
   "execution_count": null,
   "metadata": {},
   "outputs": [],
   "source": []
  }
 ],
 "metadata": {
  "kernelspec": {
   "display_name": "Python 3",
   "language": "python",
   "name": "python3"
  },
  "language_info": {
   "codemirror_mode": {
    "name": "ipython",
    "version": 3
   },
   "file_extension": ".py",
   "mimetype": "text/x-python",
   "name": "python",
   "nbconvert_exporter": "python",
   "pygments_lexer": "ipython3",
   "version": "3.8.3"
  }
 },
 "nbformat": 4,
 "nbformat_minor": 4
}
